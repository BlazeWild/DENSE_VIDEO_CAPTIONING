{
 "cells": [
  {
   "cell_type": "code",
   "execution_count": 9,
   "id": "c1b82db4",
   "metadata": {},
   "outputs": [],
   "source": [
    "import torch\n",
    "import torch.nn as nn"
   ]
  },
  {
   "cell_type": "code",
   "execution_count": null,
   "id": "1066f6a9",
   "metadata": {},
   "outputs": [
    {
     "data": {
      "text/plain": [
       "torch.Size([2, 1, 3])"
      ]
     },
     "execution_count": 5,
     "metadata": {},
     "output_type": "execute_result"
    }
   ],
   "source": [
    "inputs = torch.Tensor([[[0.2, 0.1, 0.3],[0.5,0.1,0.1]]])\n",
    "B,S,E = inputs.size() #batch, sequence, embedding\n",
    "inputs = inputs.reshape(S,B,E) # done as transformer expects sequence first\n",
    "inputs.size()"
   ]
  },
  {
   "cell_type": "code",
   "execution_count": 12,
   "id": "5fd65b2a",
   "metadata": {},
   "outputs": [],
   "source": [
    "parameter_shape = inputs.size()[-2:]\n",
    "gamma = nn.Parameter(torch.ones(parameter_shape))\n",
    "beta = nn.Parameter(torch.zeros(parameter_shape))"
   ]
  },
  {
   "cell_type": "code",
   "execution_count": null,
   "id": "7494a5a6",
   "metadata": {},
   "outputs": [
    {
     "data": {
      "text/plain": [
       "(2, torch.Size([1, 3]))"
      ]
     },
     "execution_count": 24,
     "metadata": {},
     "output_type": "execute_result"
    }
   ],
   "source": [
    "len(parameter_shape) # number of dimensions to normalize over\n",
    "parameter_shape #shape for gamma and beta"
   ]
  },
  {
   "cell_type": "code",
   "execution_count": 13,
   "id": "e6741f08",
   "metadata": {},
   "outputs": [
    {
     "data": {
      "text/plain": [
       "(torch.Size([1, 3]), torch.Size([1, 3]))"
      ]
     },
     "execution_count": 13,
     "metadata": {},
     "output_type": "execute_result"
    }
   ],
   "source": [
    "gamma.size(), beta.size()"
   ]
  },
  {
   "cell_type": "code",
   "execution_count": 16,
   "id": "7b7ce376",
   "metadata": {},
   "outputs": [
    {
     "data": {
      "text/plain": [
       "[-1, -2]"
      ]
     },
     "execution_count": 16,
     "metadata": {},
     "output_type": "execute_result"
    }
   ],
   "source": [
    "dims = [-(i+1) for i in range(len(parameter_shape))]\n",
    "dims"
   ]
  },
  {
   "cell_type": "code",
   "execution_count": 18,
   "id": "7e7f7ea4",
   "metadata": {},
   "outputs": [
    {
     "data": {
      "text/plain": [
       "(torch.Size([2, 1, 1]),\n",
       " tensor([[[0.2000]],\n",
       " \n",
       "         [[0.2333]]]))"
      ]
     },
     "execution_count": 18,
     "metadata": {},
     "output_type": "execute_result"
    }
   ],
   "source": [
    "mean = inputs.mean(dim=dims, keepdim=True)\n",
    "mean.size(), mean"
   ]
  },
  {
   "cell_type": "code",
   "execution_count": 19,
   "id": "d79184c5",
   "metadata": {},
   "outputs": [
    {
     "data": {
      "text/plain": [
       "tensor([[[0.0817]],\n",
       "\n",
       "        [[0.1886]]])"
      ]
     },
     "execution_count": 19,
     "metadata": {},
     "output_type": "execute_result"
    }
   ],
   "source": [
    "var = ((inputs - mean)**2).mean(dim=dims, keepdim=True)\n",
    "epsilon = 1e-5\n",
    "std = (var + epsilon).sqrt()\n",
    "std"
   ]
  },
  {
   "cell_type": "code",
   "execution_count": 21,
   "id": "b8e150f2",
   "metadata": {},
   "outputs": [
    {
     "data": {
      "text/plain": [
       "(torch.Size([2, 1, 3]),\n",
       " tensor([[[ 0.0000, -1.2238,  1.2238]],\n",
       " \n",
       "         [[ 1.4140, -0.7070, -0.7070]]]))"
      ]
     },
     "execution_count": 21,
     "metadata": {},
     "output_type": "execute_result"
    }
   ],
   "source": [
    "y = (inputs - mean) / std\n",
    "y.size(), y"
   ]
  },
  {
   "cell_type": "code",
   "execution_count": 23,
   "id": "ff9f874d",
   "metadata": {},
   "outputs": [
    {
     "data": {
      "text/plain": [
       "(torch.Size([2, 1, 3]),\n",
       " tensor([[[ 0.0000, -1.2238,  1.2238]],\n",
       " \n",
       "         [[ 1.4140, -0.7070, -0.7070]]], grad_fn=<AddBackward0>))"
      ]
     },
     "execution_count": 23,
     "metadata": {},
     "output_type": "execute_result"
    }
   ],
   "source": [
    "out = gamma * y + beta\n",
    "out.size(), out"
   ]
  },
  {
   "cell_type": "code",
   "execution_count": 36,
   "id": "c5a6c4d9",
   "metadata": {},
   "outputs": [],
   "source": [
    "class LayerNormalization(nn.Module):\n",
    "    def __init__(self, parameter_shape, eps=1e-5):\n",
    "        super().__init__()\n",
    "        self.parameter_shape = parameter_shape\n",
    "        self.eps = eps\n",
    "        self.gamma = nn.Parameter(torch.ones(parameter_shape))\n",
    "        self.beta = nn.Parameter(torch.zeros(parameter_shape))\n",
    "        \n",
    "    def forward(self,x): # x is input tensor\n",
    "        dims = [-(i+1) for i in range(len(self.parameter_shape))]\n",
    "        mean = x.mean(dim=dims, keepdim=True)\n",
    "        var = ((x - mean)**2).mean(dim=dims, keepdim=True)\n",
    "        std = (var + self.eps).sqrt()\n",
    "        y = (x - mean) / std\n",
    "        out = self.gamma * y + self.beta\n",
    "        return out"
   ]
  },
  {
   "cell_type": "code",
   "execution_count": 37,
   "id": "7c34e621",
   "metadata": {},
   "outputs": [
    {
     "data": {
      "text/plain": [
       "(torch.Size([5, 3, 8]),\n",
       " tensor([[[ 0.9808,  1.1174, -1.1774,  0.4539, -1.3003, -0.5163, -0.4770,\n",
       "            1.9120],\n",
       "          [-0.6183,  0.0120, -1.4875,  1.0908,  0.0713, -0.0275,  1.6774,\n",
       "           -1.7446],\n",
       "          [ 0.2669, -1.0810,  0.7801, -1.5209,  0.2631, -1.2286,  0.2108,\n",
       "            1.7517]],\n",
       " \n",
       "         [[-1.7932,  1.5784,  0.0443, -2.3657, -0.5700, -0.5194,  0.2626,\n",
       "            0.0749],\n",
       "          [-0.3007, -0.2718, -0.1874,  0.7200,  0.2329,  2.0341, -0.8840,\n",
       "           -1.2228],\n",
       "          [-0.8771, -0.2332,  1.7321,  1.3999, -0.3612, -0.3592,  1.1140,\n",
       "           -0.4511]],\n",
       " \n",
       "         [[-0.1374,  2.3371, -0.1653,  0.7964, -1.3572, -0.5025,  1.4807,\n",
       "           -0.2293],\n",
       "          [ 1.1909, -0.0310,  0.5169,  0.4907,  0.1419,  0.9483, -0.5425,\n",
       "            0.2517],\n",
       "          [ 1.7080,  0.0215,  0.1316,  0.7889, -1.4767,  0.8710, -0.4763,\n",
       "            0.5713]],\n",
       " \n",
       "         [[-0.7740,  1.5294, -0.7550,  1.5821,  1.3493, -1.2489,  0.4472,\n",
       "           -1.2390],\n",
       "          [-1.2462, -1.3441, -0.6222,  0.4465,  0.6156, -0.3831,  0.0159,\n",
       "            0.0411],\n",
       "          [ 0.5628,  0.9087,  1.0245, -1.0880, -0.7716, -0.3059,  0.8213,\n",
       "           -1.1739]],\n",
       " \n",
       "         [[ 0.3678,  0.0169,  0.1454,  0.5746,  0.4350,  2.0079, -0.4561,\n",
       "            1.0182],\n",
       "          [ 0.1845, -0.0403,  0.9481,  1.1606, -1.0022,  2.2886,  0.0259,\n",
       "           -0.5264],\n",
       "          [ 0.6509, -0.2813,  0.5310,  0.4182, -0.1669, -0.0357,  0.6673,\n",
       "           -0.6216]]]))"
      ]
     },
     "execution_count": 37,
     "metadata": {},
     "output_type": "execute_result"
    }
   ],
   "source": [
    "batch_size = 3    \n",
    "sentence_length = 5\n",
    "embedding_dim = 8\n",
    "\n",
    "x = torch.randn(sentence_length, batch_size, embedding_dim)\n",
    "x.size(),x\n"
   ]
  },
  {
   "cell_type": "code",
   "execution_count": 39,
   "id": "61defb02",
   "metadata": {},
   "outputs": [
    {
     "data": {
      "text/plain": [
       "(torch.Size([5, 3, 8]),\n",
       " tensor([[[ 0.9287,  1.0549, -1.0648,  0.4420, -1.1783, -0.4541, -0.4178,\n",
       "            1.7888],\n",
       "          [-0.5484,  0.0338, -1.3512,  1.0303,  0.0886, -0.0026,  1.5721,\n",
       "           -1.5887],\n",
       "          [ 0.2693, -0.9758,  0.7433, -1.3820,  0.2658, -1.1121,  0.2174,\n",
       "            1.6408]],\n",
       " \n",
       "         [[-1.6560,  1.5473,  0.0897, -2.1999, -0.4939, -0.4458,  0.2971,\n",
       "            0.1188],\n",
       "          [-0.2380, -0.2106, -0.1304,  0.7317,  0.2689,  1.9802, -0.7923,\n",
       "           -1.1141],\n",
       "          [-0.7857, -0.1739,  1.6933,  1.3776, -0.2955, -0.2936,  1.1060,\n",
       "           -0.3809]],\n",
       " \n",
       "         [[-0.5043,  2.3142, -0.5361,  0.5593, -1.8937, -0.9202,  1.3387,\n",
       "           -0.6091],\n",
       "          [ 1.0087, -0.3831,  0.2409,  0.2111, -0.1862,  0.7324, -0.9658,\n",
       "           -0.0611],\n",
       "          [ 1.5977, -0.3233, -0.1980,  0.5508, -2.0298,  0.6443, -0.8903,\n",
       "            0.3029]],\n",
       " \n",
       "         [[-0.7451,  1.6823, -0.7250,  1.7378,  1.4926, -1.2456,  0.5419,\n",
       "           -1.2352],\n",
       "          [-1.2427, -1.3458, -0.5851,  0.5412,  0.7193, -0.3331,  0.0873,\n",
       "            0.1139],\n",
       "          [ 0.6637,  1.0282,  1.1502, -1.0760, -0.7426, -0.2518,  0.9361,\n",
       "           -1.1666]],\n",
       " \n",
       "         [[ 0.0285, -0.4360, -0.2659,  0.3023,  0.1175,  2.1995, -1.0621,\n",
       "            0.8895],\n",
       "          [-0.2142, -0.5117,  0.7967,  1.0780, -1.7850,  2.5710, -0.4241,\n",
       "           -1.1552],\n",
       "          [ 0.4033, -0.8308,  0.2446,  0.0952, -0.6792, -0.5056,  0.4249,\n",
       "           -1.2812]]], grad_fn=<AddBackward0>))"
      ]
     },
     "execution_count": 39,
     "metadata": {},
     "output_type": "execute_result"
    }
   ],
   "source": [
    "layer_norm = LayerNormalization(x.size()[-2:])\n",
    "out = layer_norm.forward(x)\n",
    "out.size(), out"
   ]
  },
  {
   "cell_type": "code",
   "execution_count": null,
   "id": "f0f797c5",
   "metadata": {},
   "outputs": [],
   "source": []
  }
 ],
 "metadata": {
  "kernelspec": {
   "display_name": "Python 3",
   "language": "python",
   "name": "python3"
  },
  "language_info": {
   "codemirror_mode": {
    "name": "ipython",
    "version": 3
   },
   "file_extension": ".py",
   "mimetype": "text/x-python",
   "name": "python",
   "nbconvert_exporter": "python",
   "pygments_lexer": "ipython3",
   "version": "3.11.4"
  }
 },
 "nbformat": 4,
 "nbformat_minor": 5
}
